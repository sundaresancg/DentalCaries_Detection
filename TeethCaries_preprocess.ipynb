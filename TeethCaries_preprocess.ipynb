{
 "cells": [
  {
   "cell_type": "code",
   "execution_count": 1,
   "id": "0c21fdb6",
   "metadata": {},
   "outputs": [],
   "source": [
    "import os\n",
    "import cv2\n",
    "import shutil\n",
    "import glob\n",
    "import random\n",
    "import numpy as np\n",
    "import pandas as pd\n",
    "import splitfolders"
   ]
  },
  {
   "cell_type": "markdown",
   "id": "3ef4f5d8",
   "metadata": {},
   "source": [
    "### Rotate 180"
   ]
  },
  {
   "cell_type": "code",
   "execution_count": 21,
   "id": "9bf205a0",
   "metadata": {},
   "outputs": [],
   "source": [
    "inputFolder = \"G:/Datasets_img/dent_xrays/non-caries\"\n",
    "folderlen = len(inputFolder)\n",
    "#os.mkdir('non-caries-rotat')\n",
    "\n",
    "#Rotate 180\n",
    "i=0\n",
    "for img in glob.glob(inputFolder + \"/*.png\"):\n",
    "    image = cv2.imread(img)\n",
    "    height, width = image.shape[:2]\n",
    "    rotation_matrix = cv2.getRotationMatrix2D((width/2, height/2),180,1)\n",
    "    rotated_image = cv2.warpAffine(image, rotation_matrix, (width, height))\n",
    "    cv2.imwrite(\"G:\\\\Datasets_img\\\\dent_xrays\\\\non-caries-rotat\" + img[folderlen:], rotated_image)"
   ]
  },
  {
   "cell_type": "markdown",
   "id": "b0d0db3a",
   "metadata": {},
   "source": [
    "### Vertical Flip"
   ]
  },
  {
   "cell_type": "code",
   "execution_count": 22,
   "id": "238ddea0",
   "metadata": {},
   "outputs": [],
   "source": [
    "inputFolder = \"G:/Datasets_img/dent_xrays/non-caries\"\n",
    "folderlen = len(inputFolder)\n",
    "#os.mkdir('non-caries-vflip')\n",
    "\n",
    "# vertical flip\n",
    "i=0\n",
    "for img in glob.glob(inputFolder + \"/*.png\"):\n",
    "    image = cv2.imread(img)\n",
    "    imflip = cv2.flip(image,1)\n",
    "    cv2.imwrite(\"G://Datasets_img//dent_xrays//non-caries-vflip\" + img[folderlen:], imflip)"
   ]
  },
  {
   "cell_type": "markdown",
   "id": "6c3059bd",
   "metadata": {},
   "source": [
    "### Horizontal Flip"
   ]
  },
  {
   "cell_type": "code",
   "execution_count": 19,
   "id": "71495d8d",
   "metadata": {},
   "outputs": [],
   "source": [
    "inputFolder = \"G:/Datasets_img/dent_xrays/non-caries\"\n",
    "folderlen = len(inputFolder)\n",
    "os.mkdir('non-caries-hflip')\n",
    "\n",
    "# horizontal flip\n",
    "i=0\n",
    "for img in glob.glob(inputFolder + \"/*.png\"):\n",
    "    image = cv2.imread(img)\n",
    "    imflip = cv2.flip(image,0)\n",
    "    cv2.imwrite(\"G://Datasets_img//dent_xrays//non-caries-hflip\" + img[folderlen:], imflip)"
   ]
  },
  {
   "cell_type": "markdown",
   "id": "d0a58aae",
   "metadata": {},
   "source": [
    "### Renaming images"
   ]
  },
  {
   "cell_type": "code",
   "execution_count": null,
   "id": "a2fc4d15",
   "metadata": {},
   "outputs": [],
   "source": [
    "\n",
    "wdir = 'G:/Datasets_img/dent_xrays/non-caries-rotat/'\n",
    "i = 0\n",
    "for filename in os.listdir(wdir):\n",
    "    source_path = wdir + filename\n",
    "    dest_path = source_path[:-4] + \"_r\" + str(i) + \".png\"\n",
    "    os.rename(source_path, dest_path)\n",
    "    i += 1"
   ]
  },
  {
   "cell_type": "markdown",
   "id": "4488ee87",
   "metadata": {},
   "source": [
    "### Merge folders"
   ]
  },
  {
   "cell_type": "code",
   "execution_count": 26,
   "id": "42d13860",
   "metadata": {},
   "outputs": [],
   "source": [
    "os.mkdir('no-caries') # destination folder\n",
    "current_dir = 'G:/Datasets_img/dent_xrays'\n",
    "dest_dir = 'G:/Datasets_img/dent_xrays/no-caries'\n",
    "\n",
    "list_dir = ['non-caries', 'non-caries-hflip', 'non-caries-vflip', 'non-caries-rotat']\n",
    "# enumerate: stores contents of folders in list_dir and stores it in a dictionary\n",
    "\n",
    "content_list = {}\n",
    "for index, val in enumerate(list_dir):\n",
    "    path = os.path.join(current_dir, val)\n",
    "    content_list[list_dir[index]] = os.listdir(path)\n",
    "\n",
    "for folder in content_list:\n",
    "    for img in content_list[folder]:\n",
    "        img_path = folder + \"/\" + img\n",
    "        from_dir = os.path.join(current_dir, img_path)\n",
    "        shutil.move(from_dir, dest_dir)"
   ]
  },
  {
   "cell_type": "markdown",
   "id": "207662b1",
   "metadata": {},
   "source": [
    "### train, val, test split"
   ]
  },
  {
   "cell_type": "code",
   "execution_count": 31,
   "id": "2aff8695",
   "metadata": {},
   "outputs": [
    {
     "name": "stderr",
     "output_type": "stream",
     "text": [
      "Copying files: 182 files [00:19,  9.40 files/s]\n",
      "Oversampling: 2 classes [00:00,  6.56 classes/s]\n"
     ]
    }
   ],
   "source": [
    "os.chdir(\"G:/Datasets_img\")\n",
    "\n",
    "splitfolders.fixed(\"dent_xrays\", output=\"Dataset_Teeth_Caries\", seed=166, \n",
    "                   fixed=(16, 6), oversample=True, group_prefix=None, move=False)\n"
   ]
  },
  {
   "cell_type": "code",
   "execution_count": 7,
   "id": "55f0373e",
   "metadata": {},
   "outputs": [
    {
     "data": {
      "text/plain": [
       "(1300, 3100, 3)"
      ]
     },
     "execution_count": 7,
     "metadata": {},
     "output_type": "execute_result"
    }
   ],
   "source": [
    "img = cv2.imread('non-caries/1.png')\n",
    "img.shape"
   ]
  }
 ],
 "metadata": {
  "kernelspec": {
   "display_name": "Python 3 (ipykernel)",
   "language": "python",
   "name": "python3"
  },
  "language_info": {
   "codemirror_mode": {
    "name": "ipython",
    "version": 3
   },
   "file_extension": ".py",
   "mimetype": "text/x-python",
   "name": "python",
   "nbconvert_exporter": "python",
   "pygments_lexer": "ipython3",
   "version": "3.9.13"
  }
 },
 "nbformat": 4,
 "nbformat_minor": 5
}
